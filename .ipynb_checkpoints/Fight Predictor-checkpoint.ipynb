{
 "cells": [
  {
   "cell_type": "markdown",
   "id": "2ea03a12",
   "metadata": {},
   "source": [
    "<h1>A UFC Fight Predictor</h1>\n",
    "<p>By Jawad Amin</p>\n",
    "\n",
    "<p>In this notebook, I will be using a dataset containing information about UFC events from 21/3/2010 to 02/10/2021.</p>\n",
    "\n",
    "<p>Prior to implementing any machine learning methods to the dataset, we will intially explore/clean the data.</p>\n",
    " \n",
    "   <h2>Limitations</h2>\n",
    "   <ul><li>Fight results depend on many immeasurable/unobtainable statistics such as private circumstances\n",
    "            affecting a particular fighter on the day of a fight.</li>\n",
    "        <li>Controversial decisions, or fights where many would argue an early stoppage occured cannot be measured solely using this dataset, and  cannot be considered in my research.</li>\n",
    "        </ul>"
   ]
  },
  {
   "cell_type": "markdown",
   "id": "45e5a807",
   "metadata": {},
   "source": [
    "We will first import the pandas library in order to be able to convert the .csv file to a dataframe."
   ]
  },
  {
   "cell_type": "code",
   "execution_count": 1,
   "id": "c5e1152e",
   "metadata": {},
   "outputs": [],
   "source": [
    "import pandas as pd"
   ]
  },
  {
   "cell_type": "markdown",
   "id": "f2921989",
   "metadata": {},
   "source": [
    "<h2>Cleaning the dataset</h2>\n",
    "<p>Within the following cells, I remove columns that I believe are irrelevant to the prediction of the fight such as whether the fight was a title bout or not, and I also removed fights before 8/9/2018. I wanted relatively more modern fights in my dataset, due to the constantly evolving nature of the MMA ruleset.</p>\n",
    "\n",
    "<p>I used one-hot encoding in order to convert all the values I wished to use in my model from objects/strings into numerical values.</p>"
   ]
  },
  {
   "cell_type": "code",
   "execution_count": 2,
   "id": "53342b17",
   "metadata": {},
   "outputs": [],
   "source": [
    "df = pd.read_csv('ufc-master.csv')\n",
    "df = df.drop(['date','location','country','title_bout',\n",
    "             'R_ev','B_ev','B_odds','total_title_bout_dif'], axis = 1)\n",
    "df.fillna(0,inplace=True)\n",
    "df.drop(df.iloc[:,72:100],inplace = True, axis = 1)\n",
    "df.drop(df.iloc[:,69:],inplace = True, axis = 1)\n",
    "df.drop(df.iloc[:,4:58],inplace = True, axis = 1)"
   ]
  },
  {
   "cell_type": "code",
   "execution_count": 3,
   "id": "7847d8ec",
   "metadata": {},
   "outputs": [],
   "source": [
    "df= df.iloc[:1500]"
   ]
  },
  {
   "cell_type": "code",
   "execution_count": 4,
   "id": "7f37f826",
   "metadata": {},
   "outputs": [],
   "source": [
    "pd.set_option('display.max_columns', None)"
   ]
  },
  {
   "cell_type": "code",
   "execution_count": 5,
   "id": "8f1ab7a9",
   "metadata": {},
   "outputs": [],
   "source": [
    "winner_map = {'Red': 1, 'Blue': 0}\n",
    "df['Winner'] = df['Winner'].map(winner_map)"
   ]
  },
  {
   "cell_type": "code",
   "execution_count": 6,
   "id": "bc367a15",
   "metadata": {
    "scrolled": true
   },
   "outputs": [
    {
     "data": {
      "text/html": [
       "<div>\n",
       "<style scoped>\n",
       "    .dataframe tbody tr th:only-of-type {\n",
       "        vertical-align: middle;\n",
       "    }\n",
       "\n",
       "    .dataframe tbody tr th {\n",
       "        vertical-align: top;\n",
       "    }\n",
       "\n",
       "    .dataframe thead th {\n",
       "        text-align: right;\n",
       "    }\n",
       "</style>\n",
       "<table border=\"1\" class=\"dataframe\">\n",
       "  <thead>\n",
       "    <tr style=\"text-align: right;\">\n",
       "      <th></th>\n",
       "      <th>R_fighter</th>\n",
       "      <th>B_fighter</th>\n",
       "      <th>R_odds</th>\n",
       "      <th>Winner</th>\n",
       "      <th>win_dif</th>\n",
       "      <th>loss_dif</th>\n",
       "      <th>total_round_dif</th>\n",
       "      <th>ko_dif</th>\n",
       "      <th>sub_dif</th>\n",
       "      <th>height_dif</th>\n",
       "      <th>reach_dif</th>\n",
       "      <th>age_dif</th>\n",
       "      <th>sig_str_dif</th>\n",
       "      <th>avg_sub_att_dif</th>\n",
       "      <th>avg_td_dif</th>\n",
       "    </tr>\n",
       "  </thead>\n",
       "  <tbody>\n",
       "    <tr>\n",
       "      <th>0</th>\n",
       "      <td>Thiago Santos</td>\n",
       "      <td>Johnny Walker</td>\n",
       "      <td>-150.0</td>\n",
       "      <td>1</td>\n",
       "      <td>-8</td>\n",
       "      <td>-6</td>\n",
       "      <td>-32</td>\n",
       "      <td>-7</td>\n",
       "      <td>0</td>\n",
       "      <td>10.16</td>\n",
       "      <td>15.24</td>\n",
       "      <td>-8</td>\n",
       "      <td>-0.530000</td>\n",
       "      <td>0.600000</td>\n",
       "      <td>-0.370000</td>\n",
       "    </tr>\n",
       "    <tr>\n",
       "      <th>1</th>\n",
       "      <td>Alex Oliveira</td>\n",
       "      <td>Niko Price</td>\n",
       "      <td>170.0</td>\n",
       "      <td>0</td>\n",
       "      <td>-5</td>\n",
       "      <td>-3</td>\n",
       "      <td>-20</td>\n",
       "      <td>0</td>\n",
       "      <td>-1</td>\n",
       "      <td>2.54</td>\n",
       "      <td>0.00</td>\n",
       "      <td>-1</td>\n",
       "      <td>2.190000</td>\n",
       "      <td>0.300000</td>\n",
       "      <td>-1.480000</td>\n",
       "    </tr>\n",
       "    <tr>\n",
       "      <th>2</th>\n",
       "      <td>Misha Cirkunov</td>\n",
       "      <td>Krzysztof Jotko</td>\n",
       "      <td>110.0</td>\n",
       "      <td>0</td>\n",
       "      <td>3</td>\n",
       "      <td>1</td>\n",
       "      <td>25</td>\n",
       "      <td>0</td>\n",
       "      <td>-5</td>\n",
       "      <td>-5.08</td>\n",
       "      <td>0.00</td>\n",
       "      <td>-2</td>\n",
       "      <td>-0.850000</td>\n",
       "      <td>-1.600000</td>\n",
       "      <td>-3.330000</td>\n",
       "    </tr>\n",
       "    <tr>\n",
       "      <th>3</th>\n",
       "      <td>Alexander Hernandez</td>\n",
       "      <td>Mike Breeden</td>\n",
       "      <td>-675.0</td>\n",
       "      <td>1</td>\n",
       "      <td>-4</td>\n",
       "      <td>-2</td>\n",
       "      <td>-12</td>\n",
       "      <td>-2</td>\n",
       "      <td>0</td>\n",
       "      <td>2.54</td>\n",
       "      <td>-5.08</td>\n",
       "      <td>3</td>\n",
       "      <td>0.250000</td>\n",
       "      <td>0.000000</td>\n",
       "      <td>-1.570000</td>\n",
       "    </tr>\n",
       "    <tr>\n",
       "      <th>4</th>\n",
       "      <td>Joe Solecki</td>\n",
       "      <td>Jared Gordon</td>\n",
       "      <td>-135.0</td>\n",
       "      <td>0</td>\n",
       "      <td>1</td>\n",
       "      <td>3</td>\n",
       "      <td>11</td>\n",
       "      <td>1</td>\n",
       "      <td>-2</td>\n",
       "      <td>0.00</td>\n",
       "      <td>-5.08</td>\n",
       "      <td>5</td>\n",
       "      <td>2.580000</td>\n",
       "      <td>-0.600000</td>\n",
       "      <td>-0.310000</td>\n",
       "    </tr>\n",
       "    <tr>\n",
       "      <th>...</th>\n",
       "      <td>...</td>\n",
       "      <td>...</td>\n",
       "      <td>...</td>\n",
       "      <td>...</td>\n",
       "      <td>...</td>\n",
       "      <td>...</td>\n",
       "      <td>...</td>\n",
       "      <td>...</td>\n",
       "      <td>...</td>\n",
       "      <td>...</td>\n",
       "      <td>...</td>\n",
       "      <td>...</td>\n",
       "      <td>...</td>\n",
       "      <td>...</td>\n",
       "      <td>...</td>\n",
       "    </tr>\n",
       "    <tr>\n",
       "      <th>1495</th>\n",
       "      <td>Aljamain Sterling</td>\n",
       "      <td>Cody Stamann</td>\n",
       "      <td>-170.0</td>\n",
       "      <td>1</td>\n",
       "      <td>-4</td>\n",
       "      <td>3</td>\n",
       "      <td>-18</td>\n",
       "      <td>-1</td>\n",
       "      <td>-2</td>\n",
       "      <td>-2.54</td>\n",
       "      <td>-17.78</td>\n",
       "      <td>1</td>\n",
       "      <td>35.700000</td>\n",
       "      <td>-0.700000</td>\n",
       "      <td>2.100000</td>\n",
       "    </tr>\n",
       "    <tr>\n",
       "      <th>1496</th>\n",
       "      <td>Geoff Neal</td>\n",
       "      <td>Frank Camacho</td>\n",
       "      <td>-210.0</td>\n",
       "      <td>1</td>\n",
       "      <td>0</td>\n",
       "      <td>-1</td>\n",
       "      <td>5</td>\n",
       "      <td>0</td>\n",
       "      <td>-1</td>\n",
       "      <td>-2.54</td>\n",
       "      <td>-5.08</td>\n",
       "      <td>-1</td>\n",
       "      <td>116.000000</td>\n",
       "      <td>-1.000000</td>\n",
       "      <td>2.000000</td>\n",
       "    </tr>\n",
       "    <tr>\n",
       "      <th>1497</th>\n",
       "      <td>Charles Byrd</td>\n",
       "      <td>Darren Stewart</td>\n",
       "      <td>-170.0</td>\n",
       "      <td>0</td>\n",
       "      <td>0</td>\n",
       "      <td>-4</td>\n",
       "      <td>8</td>\n",
       "      <td>1</td>\n",
       "      <td>-1</td>\n",
       "      <td>5.08</td>\n",
       "      <td>2.54</td>\n",
       "      <td>7</td>\n",
       "      <td>11.200000</td>\n",
       "      <td>-1.000000</td>\n",
       "      <td>0.200000</td>\n",
       "    </tr>\n",
       "    <tr>\n",
       "      <th>1498</th>\n",
       "      <td>Diego Sanchez</td>\n",
       "      <td>Craig White</td>\n",
       "      <td>175.0</td>\n",
       "      <td>1</td>\n",
       "      <td>-16</td>\n",
       "      <td>10</td>\n",
       "      <td>-69</td>\n",
       "      <td>-5</td>\n",
       "      <td>0</td>\n",
       "      <td>10.16</td>\n",
       "      <td>10.16</td>\n",
       "      <td>8</td>\n",
       "      <td>-27.296296</td>\n",
       "      <td>-0.666667</td>\n",
       "      <td>-1.037037</td>\n",
       "    </tr>\n",
       "    <tr>\n",
       "      <th>1499</th>\n",
       "      <td>Jim Miller</td>\n",
       "      <td>Alex White</td>\n",
       "      <td>155.0</td>\n",
       "      <td>1</td>\n",
       "      <td>-14</td>\n",
       "      <td>8</td>\n",
       "      <td>-51</td>\n",
       "      <td>-1</td>\n",
       "      <td>-6</td>\n",
       "      <td>10.16</td>\n",
       "      <td>0.00</td>\n",
       "      <td>6</td>\n",
       "      <td>16.000000</td>\n",
       "      <td>-1.201970</td>\n",
       "      <td>-0.492611</td>\n",
       "    </tr>\n",
       "  </tbody>\n",
       "</table>\n",
       "<p>1500 rows × 15 columns</p>\n",
       "</div>"
      ],
      "text/plain": [
       "                R_fighter        B_fighter  R_odds  Winner  win_dif  loss_dif  \\\n",
       "0           Thiago Santos    Johnny Walker  -150.0       1       -8        -6   \n",
       "1           Alex Oliveira       Niko Price   170.0       0       -5        -3   \n",
       "2          Misha Cirkunov  Krzysztof Jotko   110.0       0        3         1   \n",
       "3     Alexander Hernandez     Mike Breeden  -675.0       1       -4        -2   \n",
       "4             Joe Solecki     Jared Gordon  -135.0       0        1         3   \n",
       "...                   ...              ...     ...     ...      ...       ...   \n",
       "1495    Aljamain Sterling     Cody Stamann  -170.0       1       -4         3   \n",
       "1496           Geoff Neal    Frank Camacho  -210.0       1        0        -1   \n",
       "1497         Charles Byrd   Darren Stewart  -170.0       0        0        -4   \n",
       "1498        Diego Sanchez      Craig White   175.0       1      -16        10   \n",
       "1499           Jim Miller       Alex White   155.0       1      -14         8   \n",
       "\n",
       "      total_round_dif  ko_dif  sub_dif  height_dif  reach_dif  age_dif  \\\n",
       "0                 -32      -7        0       10.16      15.24       -8   \n",
       "1                 -20       0       -1        2.54       0.00       -1   \n",
       "2                  25       0       -5       -5.08       0.00       -2   \n",
       "3                 -12      -2        0        2.54      -5.08        3   \n",
       "4                  11       1       -2        0.00      -5.08        5   \n",
       "...               ...     ...      ...         ...        ...      ...   \n",
       "1495              -18      -1       -2       -2.54     -17.78        1   \n",
       "1496                5       0       -1       -2.54      -5.08       -1   \n",
       "1497                8       1       -1        5.08       2.54        7   \n",
       "1498              -69      -5        0       10.16      10.16        8   \n",
       "1499              -51      -1       -6       10.16       0.00        6   \n",
       "\n",
       "      sig_str_dif  avg_sub_att_dif  avg_td_dif  \n",
       "0       -0.530000         0.600000   -0.370000  \n",
       "1        2.190000         0.300000   -1.480000  \n",
       "2       -0.850000        -1.600000   -3.330000  \n",
       "3        0.250000         0.000000   -1.570000  \n",
       "4        2.580000        -0.600000   -0.310000  \n",
       "...           ...              ...         ...  \n",
       "1495    35.700000        -0.700000    2.100000  \n",
       "1496   116.000000        -1.000000    2.000000  \n",
       "1497    11.200000        -1.000000    0.200000  \n",
       "1498   -27.296296        -0.666667   -1.037037  \n",
       "1499    16.000000        -1.201970   -0.492611  \n",
       "\n",
       "[1500 rows x 15 columns]"
      ]
     },
     "execution_count": 6,
     "metadata": {},
     "output_type": "execute_result"
    }
   ],
   "source": [
    "df"
   ]
  },
  {
   "cell_type": "code",
   "execution_count": 7,
   "id": "3a959010",
   "metadata": {},
   "outputs": [
    {
     "data": {
      "text/plain": [
       "R_fighter           object\n",
       "B_fighter           object\n",
       "R_odds             float64\n",
       "Winner               int64\n",
       "win_dif              int64\n",
       "loss_dif             int64\n",
       "total_round_dif      int64\n",
       "ko_dif               int64\n",
       "sub_dif              int64\n",
       "height_dif         float64\n",
       "reach_dif          float64\n",
       "age_dif              int64\n",
       "sig_str_dif        float64\n",
       "avg_sub_att_dif    float64\n",
       "avg_td_dif         float64\n",
       "dtype: object"
      ]
     },
     "execution_count": 7,
     "metadata": {},
     "output_type": "execute_result"
    }
   ],
   "source": [
    "df.dtypes\n"
   ]
  },
  {
   "cell_type": "code",
   "execution_count": 22,
   "id": "9329021d",
   "metadata": {},
   "outputs": [
    {
     "data": {
      "text/html": [
       "<style>#sk-container-id-2 {color: black;}#sk-container-id-2 pre{padding: 0;}#sk-container-id-2 div.sk-toggleable {background-color: white;}#sk-container-id-2 label.sk-toggleable__label {cursor: pointer;display: block;width: 100%;margin-bottom: 0;padding: 0.3em;box-sizing: border-box;text-align: center;}#sk-container-id-2 label.sk-toggleable__label-arrow:before {content: \"▸\";float: left;margin-right: 0.25em;color: #696969;}#sk-container-id-2 label.sk-toggleable__label-arrow:hover:before {color: black;}#sk-container-id-2 div.sk-estimator:hover label.sk-toggleable__label-arrow:before {color: black;}#sk-container-id-2 div.sk-toggleable__content {max-height: 0;max-width: 0;overflow: hidden;text-align: left;background-color: #f0f8ff;}#sk-container-id-2 div.sk-toggleable__content pre {margin: 0.2em;color: black;border-radius: 0.25em;background-color: #f0f8ff;}#sk-container-id-2 input.sk-toggleable__control:checked~div.sk-toggleable__content {max-height: 200px;max-width: 100%;overflow: auto;}#sk-container-id-2 input.sk-toggleable__control:checked~label.sk-toggleable__label-arrow:before {content: \"▾\";}#sk-container-id-2 div.sk-estimator input.sk-toggleable__control:checked~label.sk-toggleable__label {background-color: #d4ebff;}#sk-container-id-2 div.sk-label input.sk-toggleable__control:checked~label.sk-toggleable__label {background-color: #d4ebff;}#sk-container-id-2 input.sk-hidden--visually {border: 0;clip: rect(1px 1px 1px 1px);clip: rect(1px, 1px, 1px, 1px);height: 1px;margin: -1px;overflow: hidden;padding: 0;position: absolute;width: 1px;}#sk-container-id-2 div.sk-estimator {font-family: monospace;background-color: #f0f8ff;border: 1px dotted black;border-radius: 0.25em;box-sizing: border-box;margin-bottom: 0.5em;}#sk-container-id-2 div.sk-estimator:hover {background-color: #d4ebff;}#sk-container-id-2 div.sk-parallel-item::after {content: \"\";width: 100%;border-bottom: 1px solid gray;flex-grow: 1;}#sk-container-id-2 div.sk-label:hover label.sk-toggleable__label {background-color: #d4ebff;}#sk-container-id-2 div.sk-serial::before {content: \"\";position: absolute;border-left: 1px solid gray;box-sizing: border-box;top: 0;bottom: 0;left: 50%;z-index: 0;}#sk-container-id-2 div.sk-serial {display: flex;flex-direction: column;align-items: center;background-color: white;padding-right: 0.2em;padding-left: 0.2em;position: relative;}#sk-container-id-2 div.sk-item {position: relative;z-index: 1;}#sk-container-id-2 div.sk-parallel {display: flex;align-items: stretch;justify-content: center;background-color: white;position: relative;}#sk-container-id-2 div.sk-item::before, #sk-container-id-2 div.sk-parallel-item::before {content: \"\";position: absolute;border-left: 1px solid gray;box-sizing: border-box;top: 0;bottom: 0;left: 50%;z-index: -1;}#sk-container-id-2 div.sk-parallel-item {display: flex;flex-direction: column;z-index: 1;position: relative;background-color: white;}#sk-container-id-2 div.sk-parallel-item:first-child::after {align-self: flex-end;width: 50%;}#sk-container-id-2 div.sk-parallel-item:last-child::after {align-self: flex-start;width: 50%;}#sk-container-id-2 div.sk-parallel-item:only-child::after {width: 0;}#sk-container-id-2 div.sk-dashed-wrapped {border: 1px dashed gray;margin: 0 0.4em 0.5em 0.4em;box-sizing: border-box;padding-bottom: 0.4em;background-color: white;}#sk-container-id-2 div.sk-label label {font-family: monospace;font-weight: bold;display: inline-block;line-height: 1.2em;}#sk-container-id-2 div.sk-label-container {text-align: center;}#sk-container-id-2 div.sk-container {/* jupyter's `normalize.less` sets `[hidden] { display: none; }` but bootstrap.min.css set `[hidden] { display: none !important; }` so we also need the `!important` here to be able to override the default hidden behavior on the sphinx rendered scikit-learn.org. See: https://github.com/scikit-learn/scikit-learn/issues/21755 */display: inline-block !important;position: relative;}#sk-container-id-2 div.sk-text-repr-fallback {display: none;}</style><div id=\"sk-container-id-2\" class=\"sk-top-container\"><div class=\"sk-text-repr-fallback\"><pre>RandomForestClassifier(min_samples_split=10, n_estimators=50, random_state=1)</pre><b>In a Jupyter environment, please rerun this cell to show the HTML representation or trust the notebook. <br />On GitHub, the HTML representation is unable to render, please try loading this page with nbviewer.org.</b></div><div class=\"sk-container\" hidden><div class=\"sk-item\"><div class=\"sk-estimator sk-toggleable\"><input class=\"sk-toggleable__control sk-hidden--visually\" id=\"sk-estimator-id-2\" type=\"checkbox\" checked><label for=\"sk-estimator-id-2\" class=\"sk-toggleable__label sk-toggleable__label-arrow\">RandomForestClassifier</label><div class=\"sk-toggleable__content\"><pre>RandomForestClassifier(min_samples_split=10, n_estimators=50, random_state=1)</pre></div></div></div></div></div>"
      ],
      "text/plain": [
       "RandomForestClassifier(min_samples_split=10, n_estimators=50, random_state=1)"
      ]
     },
     "execution_count": 22,
     "metadata": {},
     "output_type": "execute_result"
    }
   ],
   "source": [
    "from sklearn.ensemble import RandomForestClassifier\n",
    "rf = RandomForestClassifier(n_estimators=50,min_samples_split=10,\n",
    "                           random_state=1)\n",
    "train= df.iloc[750:1500]\n",
    "test = df.iloc[:749]\n",
    "predictors = ['R_odds','win_dif','loss_dif','total_round_dif','ko_dif','sub_dif','height_dif','reach_dif','age_dif','sig_str_dif','avg_sub_att_dif','avg_td_dif']\n",
    "rf.fit(train[predictors],train[\"Winner\"])\n",
    "\n"
   ]
  },
  {
   "cell_type": "code",
   "execution_count": 23,
   "id": "343747ec",
   "metadata": {},
   "outputs": [],
   "source": [
    "preds=rf.predict(test[predictors])\n",
    "from sklearn.metrics import accuracy_score\n",
    "acc = accuracy_score(test[\"Winner\"],preds)"
   ]
  },
  {
   "cell_type": "code",
   "execution_count": 24,
   "id": "2010c3c5",
   "metadata": {},
   "outputs": [
    {
     "data": {
      "text/plain": [
       "0.6288384512683578"
      ]
     },
     "execution_count": 24,
     "metadata": {},
     "output_type": "execute_result"
    }
   ],
   "source": [
    "acc"
   ]
  },
  {
   "cell_type": "code",
   "execution_count": 25,
   "id": "b317d32f",
   "metadata": {},
   "outputs": [],
   "source": [
    "combined = pd.DataFrame(dict(actual=test[\"Winner\"],prediction=preds))"
   ]
  },
  {
   "cell_type": "code",
   "execution_count": 26,
   "id": "48402101",
   "metadata": {},
   "outputs": [
    {
     "data": {
      "text/html": [
       "<div>\n",
       "<style scoped>\n",
       "    .dataframe tbody tr th:only-of-type {\n",
       "        vertical-align: middle;\n",
       "    }\n",
       "\n",
       "    .dataframe tbody tr th {\n",
       "        vertical-align: top;\n",
       "    }\n",
       "\n",
       "    .dataframe thead th {\n",
       "        text-align: right;\n",
       "    }\n",
       "</style>\n",
       "<table border=\"1\" class=\"dataframe\">\n",
       "  <thead>\n",
       "    <tr style=\"text-align: right;\">\n",
       "      <th>prediction</th>\n",
       "      <th>0</th>\n",
       "      <th>1</th>\n",
       "    </tr>\n",
       "    <tr>\n",
       "      <th>actual</th>\n",
       "      <th></th>\n",
       "      <th></th>\n",
       "    </tr>\n",
       "  </thead>\n",
       "  <tbody>\n",
       "    <tr>\n",
       "      <th>0</th>\n",
       "      <td>133</td>\n",
       "      <td>174</td>\n",
       "    </tr>\n",
       "    <tr>\n",
       "      <th>1</th>\n",
       "      <td>104</td>\n",
       "      <td>338</td>\n",
       "    </tr>\n",
       "  </tbody>\n",
       "</table>\n",
       "</div>"
      ],
      "text/plain": [
       "prediction    0    1\n",
       "actual              \n",
       "0           133  174\n",
       "1           104  338"
      ]
     },
     "execution_count": 26,
     "metadata": {},
     "output_type": "execute_result"
    }
   ],
   "source": [
    "pd.crosstab(index=combined[\"actual\"],columns=combined[\"prediction\"])"
   ]
  },
  {
   "cell_type": "code",
   "execution_count": 27,
   "id": "d58dd2b3",
   "metadata": {},
   "outputs": [
    {
     "data": {
      "text/plain": [
       "0.66015625"
      ]
     },
     "execution_count": 27,
     "metadata": {},
     "output_type": "execute_result"
    }
   ],
   "source": [
    "from sklearn.metrics import precision_score\n",
    "precision_score(test[\"Winner\"],preds)"
   ]
  },
  {
   "cell_type": "code",
   "execution_count": 32,
   "id": "1afad011",
   "metadata": {},
   "outputs": [
    {
     "ename": "IndexError",
     "evalue": "list index out of range",
     "output_type": "error",
     "traceback": [
      "\u001b[1;31m---------------------------------------------------------------------------\u001b[0m",
      "\u001b[1;31mIndexError\u001b[0m                                Traceback (most recent call last)",
      "Cell \u001b[1;32mIn[32], line 2\u001b[0m\n\u001b[0;32m      1\u001b[0m \u001b[38;5;28;01mfrom\u001b[39;00m \u001b[38;5;21;01mufc\u001b[39;00m \u001b[38;5;28;01mimport\u001b[39;00m get_fighter\n\u001b[1;32m----> 2\u001b[0m get_fighter(\u001b[38;5;124m'\u001b[39m\u001b[38;5;124mNick Diaz\u001b[39m\u001b[38;5;124m'\u001b[39m)[\u001b[38;5;124m'\u001b[39m\u001b[38;5;124mtakedowns\u001b[39m\u001b[38;5;124m'\u001b[39m]\n",
      "File \u001b[1;32m~\\anaconda3\\Lib\\site-packages\\ufc.py:129\u001b[0m, in \u001b[0;36mget_fighter\u001b[1;34m(query)\u001b[0m\n\u001b[0;32m    126\u001b[0m sherdog_link \u001b[38;5;241m=\u001b[39m get_sherdog_link(query)\n\u001b[0;32m    127\u001b[0m ufc_link \u001b[38;5;241m=\u001b[39m get_ufc_link(query)\n\u001b[1;32m--> 129\u001b[0m fighter \u001b[38;5;241m=\u001b[39m parse_sherdog_fighter(sherdog_link)\n\u001b[0;32m    130\u001b[0m fighter\u001b[38;5;241m.\u001b[39mupdate(get_ufc_stats(ufc_link))\n\u001b[0;32m    131\u001b[0m \u001b[38;5;28;01mreturn\u001b[39;00m fighter\n",
      "File \u001b[1;32m~\\anaconda3\\Lib\\site-packages\\ufc.py:26\u001b[0m, in \u001b[0;36mparse_sherdog_fighter\u001b[1;34m(url)\u001b[0m\n\u001b[0;32m     21\u001b[0m     other_wins \u001b[38;5;241m=\u001b[39m \u001b[38;5;124m'\u001b[39m\u001b[38;5;124m0\u001b[39m\u001b[38;5;124m'\u001b[39m\n\u001b[0;32m     22\u001b[0m     other_losses \u001b[38;5;241m=\u001b[39m \u001b[38;5;124m'\u001b[39m\u001b[38;5;124m0\u001b[39m\u001b[38;5;124m'\u001b[39m\n\u001b[0;32m     24\u001b[0m fighter \u001b[38;5;241m=\u001b[39m {\n\u001b[0;32m     25\u001b[0m     \u001b[38;5;124m'\u001b[39m\u001b[38;5;124mname\u001b[39m\u001b[38;5;124m'\u001b[39m : xml\u001b[38;5;241m.\u001b[39mxpath(\u001b[38;5;124m\"\u001b[39m\u001b[38;5;124m//span[@class=\u001b[39m\u001b[38;5;124m'\u001b[39m\u001b[38;5;124mfn\u001b[39m\u001b[38;5;124m'\u001b[39m\u001b[38;5;124m]/text()\u001b[39m\u001b[38;5;124m\"\u001b[39m)[\u001b[38;5;241m0\u001b[39m],\n\u001b[1;32m---> 26\u001b[0m     \u001b[38;5;124m'\u001b[39m\u001b[38;5;124mnickname\u001b[39m\u001b[38;5;124m'\u001b[39m : bio\u001b[38;5;241m.\u001b[39mxpath(\u001b[38;5;124m\"\u001b[39m\u001b[38;5;124m//span[@class=\u001b[39m\u001b[38;5;124m'\u001b[39m\u001b[38;5;124mnickname\u001b[39m\u001b[38;5;124m'\u001b[39m\u001b[38;5;124m]/em/text()\u001b[39m\u001b[38;5;124m\"\u001b[39m)[\u001b[38;5;241m0\u001b[39m],\n\u001b[0;32m     27\u001b[0m     \u001b[38;5;124m'\u001b[39m\u001b[38;5;124mnationality\u001b[39m\u001b[38;5;124m'\u001b[39m : bio\u001b[38;5;241m.\u001b[39mxpath(\u001b[38;5;124m\"\u001b[39m\u001b[38;5;124m//strong[@itemprop=\u001b[39m\u001b[38;5;124m'\u001b[39m\u001b[38;5;124mnationality\u001b[39m\u001b[38;5;124m'\u001b[39m\u001b[38;5;124m]/text()\u001b[39m\u001b[38;5;124m\"\u001b[39m)[\u001b[38;5;241m0\u001b[39m],\n\u001b[0;32m     28\u001b[0m     \u001b[38;5;124m'\u001b[39m\u001b[38;5;124mbirthplace\u001b[39m\u001b[38;5;124m'\u001b[39m : xml\u001b[38;5;241m.\u001b[39mxpath(\u001b[38;5;124m\"\u001b[39m\u001b[38;5;124m//span[@class=\u001b[39m\u001b[38;5;124m'\u001b[39m\u001b[38;5;124mlocality\u001b[39m\u001b[38;5;124m'\u001b[39m\u001b[38;5;124m]/text()\u001b[39m\u001b[38;5;124m\"\u001b[39m)[\u001b[38;5;241m0\u001b[39m],\n\u001b[0;32m     29\u001b[0m     \u001b[38;5;124m'\u001b[39m\u001b[38;5;124mbirthdate\u001b[39m\u001b[38;5;124m'\u001b[39m : xml\u001b[38;5;241m.\u001b[39mxpath(\u001b[38;5;124m\"\u001b[39m\u001b[38;5;124m//span[@itemprop=\u001b[39m\u001b[38;5;124m'\u001b[39m\u001b[38;5;124mbirthDate\u001b[39m\u001b[38;5;124m'\u001b[39m\u001b[38;5;124m]/text()\u001b[39m\u001b[38;5;124m\"\u001b[39m)[\u001b[38;5;241m0\u001b[39m],\n\u001b[0;32m     30\u001b[0m     \u001b[38;5;124m'\u001b[39m\u001b[38;5;124mage\u001b[39m\u001b[38;5;124m'\u001b[39m : xml\u001b[38;5;241m.\u001b[39mxpath(\u001b[38;5;124m\"\u001b[39m\u001b[38;5;124m//span[@itemprop=\u001b[39m\u001b[38;5;124m'\u001b[39m\u001b[38;5;124mbirthDate\u001b[39m\u001b[38;5;124m'\u001b[39m\u001b[38;5;124m]/preceding-sibling::b/text()\u001b[39m\u001b[38;5;124m\"\u001b[39m)[\u001b[38;5;241m0\u001b[39m],\n\u001b[0;32m     31\u001b[0m     \u001b[38;5;124m'\u001b[39m\u001b[38;5;124mheight\u001b[39m\u001b[38;5;124m'\u001b[39m : xml\u001b[38;5;241m.\u001b[39mxpath(\u001b[38;5;124m\"\u001b[39m\u001b[38;5;124m//b[@itemprop=\u001b[39m\u001b[38;5;124m'\u001b[39m\u001b[38;5;124mheight\u001b[39m\u001b[38;5;124m'\u001b[39m\u001b[38;5;124m]/text()\u001b[39m\u001b[38;5;124m\"\u001b[39m)[\u001b[38;5;241m0\u001b[39m],\n\u001b[0;32m     32\u001b[0m     \u001b[38;5;124m'\u001b[39m\u001b[38;5;124mweight\u001b[39m\u001b[38;5;124m'\u001b[39m : xml\u001b[38;5;241m.\u001b[39mxpath(\u001b[38;5;124m\"\u001b[39m\u001b[38;5;124m//b[@itemprop=\u001b[39m\u001b[38;5;124m'\u001b[39m\u001b[38;5;124mweight\u001b[39m\u001b[38;5;124m'\u001b[39m\u001b[38;5;124m]/text()\u001b[39m\u001b[38;5;124m\"\u001b[39m)[\u001b[38;5;241m0\u001b[39m],\n\u001b[0;32m     33\u001b[0m     \u001b[38;5;124m'\u001b[39m\u001b[38;5;124massociation\u001b[39m\u001b[38;5;124m'\u001b[39m : xml\u001b[38;5;241m.\u001b[39mxpath(\u001b[38;5;124m\"\u001b[39m\u001b[38;5;124m//span[@itemprop=\u001b[39m\u001b[38;5;124m'\u001b[39m\u001b[38;5;124mmemberOf\u001b[39m\u001b[38;5;124m'\u001b[39m\u001b[38;5;124m]/a/span/text()\u001b[39m\u001b[38;5;124m\"\u001b[39m)[\u001b[38;5;241m0\u001b[39m],\n\u001b[0;32m     34\u001b[0m     \u001b[38;5;124m'\u001b[39m\u001b[38;5;124mweight_class\u001b[39m\u001b[38;5;124m'\u001b[39m : xml\u001b[38;5;241m.\u001b[39mxpath(\u001b[38;5;124m\"\u001b[39m\u001b[38;5;124m//div[@class=\u001b[39m\u001b[38;5;124m'\u001b[39m\u001b[38;5;124massociation-class\u001b[39m\u001b[38;5;124m'\u001b[39m\u001b[38;5;124m]/a/text()\u001b[39m\u001b[38;5;124m\"\u001b[39m)[\u001b[38;5;241m0\u001b[39m],\n\u001b[0;32m     35\u001b[0m \n\u001b[0;32m     36\u001b[0m     \u001b[38;5;124m'\u001b[39m\u001b[38;5;124mwins\u001b[39m\u001b[38;5;124m'\u001b[39m : {\n\u001b[0;32m     37\u001b[0m         \u001b[38;5;124m'\u001b[39m\u001b[38;5;124mtotal\u001b[39m\u001b[38;5;124m'\u001b[39m: xml\u001b[38;5;241m.\u001b[39mxpath(\u001b[38;5;124m\"\u001b[39m\u001b[38;5;124m//div[@class=\u001b[39m\u001b[38;5;124m'\u001b[39m\u001b[38;5;124mwinloses win\u001b[39m\u001b[38;5;124m'\u001b[39m\u001b[38;5;124m]/span[2]/text()\u001b[39m\u001b[38;5;124m\"\u001b[39m)[\u001b[38;5;241m0\u001b[39m],\n\u001b[0;32m     38\u001b[0m         \u001b[38;5;124m'\u001b[39m\u001b[38;5;124mko/tko\u001b[39m\u001b[38;5;124m'\u001b[39m: wins_detailed[\u001b[38;5;241m0\u001b[39m],\n\u001b[0;32m     39\u001b[0m         \u001b[38;5;124m'\u001b[39m\u001b[38;5;124msubmissions\u001b[39m\u001b[38;5;124m'\u001b[39m:wins_detailed[\u001b[38;5;241m1\u001b[39m],\n\u001b[0;32m     40\u001b[0m         \u001b[38;5;124m'\u001b[39m\u001b[38;5;124mdecisions\u001b[39m\u001b[38;5;124m'\u001b[39m:wins_detailed[\u001b[38;5;241m2\u001b[39m],\n\u001b[0;32m     41\u001b[0m         \u001b[38;5;124m'\u001b[39m\u001b[38;5;124mothers\u001b[39m\u001b[38;5;124m'\u001b[39m: other_wins\n\u001b[0;32m     42\u001b[0m             },\n\u001b[0;32m     43\u001b[0m     \u001b[38;5;124m'\u001b[39m\u001b[38;5;124mlosses\u001b[39m\u001b[38;5;124m'\u001b[39m : {\n\u001b[0;32m     44\u001b[0m         \u001b[38;5;124m'\u001b[39m\u001b[38;5;124mtotal\u001b[39m\u001b[38;5;124m'\u001b[39m: xml\u001b[38;5;241m.\u001b[39mxpath(\u001b[38;5;124m\"\u001b[39m\u001b[38;5;124m//div[@class=\u001b[39m\u001b[38;5;124m'\u001b[39m\u001b[38;5;124mwinloses lose\u001b[39m\u001b[38;5;124m'\u001b[39m\u001b[38;5;124m]/span[2]/text()\u001b[39m\u001b[38;5;124m\"\u001b[39m)[\u001b[38;5;241m0\u001b[39m],\n\u001b[0;32m     45\u001b[0m         \u001b[38;5;124m'\u001b[39m\u001b[38;5;124mko/tko\u001b[39m\u001b[38;5;124m'\u001b[39m: losses_detailed[\u001b[38;5;241m0\u001b[39m],\n\u001b[0;32m     46\u001b[0m         \u001b[38;5;124m'\u001b[39m\u001b[38;5;124msubmissions\u001b[39m\u001b[38;5;124m'\u001b[39m:losses_detailed[\u001b[38;5;241m1\u001b[39m],\n\u001b[0;32m     47\u001b[0m         \u001b[38;5;124m'\u001b[39m\u001b[38;5;124mdecisions\u001b[39m\u001b[38;5;124m'\u001b[39m:losses_detailed[\u001b[38;5;241m2\u001b[39m],\n\u001b[0;32m     48\u001b[0m         \u001b[38;5;124m'\u001b[39m\u001b[38;5;124mothers\u001b[39m\u001b[38;5;124m'\u001b[39m:other_losses\n\u001b[0;32m     49\u001b[0m             },\n\u001b[0;32m     50\u001b[0m \n\u001b[0;32m     51\u001b[0m     \u001b[38;5;124m'\u001b[39m\u001b[38;5;124mfights\u001b[39m\u001b[38;5;124m'\u001b[39m : []\n\u001b[0;32m     52\u001b[0m }\n\u001b[0;32m     54\u001b[0m fight_rows \u001b[38;5;241m=\u001b[39m xml\u001b[38;5;241m.\u001b[39mxpath(\u001b[38;5;124m\"\u001b[39m\u001b[38;5;124m//table[@class=\u001b[39m\u001b[38;5;124m'\u001b[39m\u001b[38;5;124mnew_table fighter\u001b[39m\u001b[38;5;124m'\u001b[39m\u001b[38;5;124m]/tr[not(@class=\u001b[39m\u001b[38;5;124m'\u001b[39m\u001b[38;5;124mtable_head\u001b[39m\u001b[38;5;124m'\u001b[39m\u001b[38;5;124m)]\u001b[39m\u001b[38;5;124m\"\u001b[39m)\n\u001b[0;32m     56\u001b[0m \u001b[38;5;28;01mfor\u001b[39;00m row \u001b[38;5;129;01min\u001b[39;00m fight_rows:\n",
      "\u001b[1;31mIndexError\u001b[0m: list index out of range"
     ]
    }
   ],
   "source": [
    "\n"
   ]
  },
  {
   "cell_type": "code",
   "execution_count": null,
   "id": "d69c0443",
   "metadata": {},
   "outputs": [],
   "source": []
  },
  {
   "cell_type": "code",
   "execution_count": null,
   "id": "301502b8",
   "metadata": {},
   "outputs": [],
   "source": []
  },
  {
   "cell_type": "code",
   "execution_count": null,
   "id": "6294667a",
   "metadata": {},
   "outputs": [],
   "source": []
  },
  {
   "cell_type": "code",
   "execution_count": null,
   "id": "3ff9ce5d",
   "metadata": {},
   "outputs": [],
   "source": []
  },
  {
   "cell_type": "code",
   "execution_count": null,
   "id": "98b6f523",
   "metadata": {},
   "outputs": [],
   "source": []
  }
 ],
 "metadata": {
  "kernelspec": {
   "display_name": "Python 3 (ipykernel)",
   "language": "python",
   "name": "python3"
  },
  "language_info": {
   "codemirror_mode": {
    "name": "ipython",
    "version": 3
   },
   "file_extension": ".py",
   "mimetype": "text/x-python",
   "name": "python",
   "nbconvert_exporter": "python",
   "pygments_lexer": "ipython3",
   "version": "3.11.5"
  }
 },
 "nbformat": 4,
 "nbformat_minor": 5
}
